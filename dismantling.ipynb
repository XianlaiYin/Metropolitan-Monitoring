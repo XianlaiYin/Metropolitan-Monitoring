{
 "cells": [
  {
   "cell_type": "code",
   "execution_count": null,
   "metadata": {},
   "outputs": [],
   "source": [
    "# Imports\n",
    "import pandas as pd\n",
    "import re"
   ]
  },
  {
   "cell_type": "code",
   "execution_count": 86,
   "metadata": {},
   "outputs": [],
   "source": [
    "# Read the Excel file\n",
    "county_raw = pd.read_excel('1997-2017年中国县级尺度碳排放.xlsx', sheet_name='Unit (Million tons)')\n",
    "city_2020_raw = pd.read_excel('20221016_164053_474470.xlsx', sheet_name='二氧化碳排放(万吨)')\n",
    "city_2015_raw = pd.read_excel('20221016_164004_290052.xlsx', sheet_name='二氧化碳排放(万吨)')\n",
    "city_2010_raw = pd.read_excel('20221016_163454_333468.xlsx', sheet_name='二氧化碳排放(万吨)')\n",
    "city_2005_raw = pd.read_excel('20221016_163805_882972.xlsx', sheet_name='二氧化碳排放(万吨)')"
   ]
  },
  {
   "cell_type": "code",
   "execution_count": 87,
   "metadata": {},
   "outputs": [
    {
     "name": "stderr",
     "output_type": "stream",
     "text": [
      "C:\\Users\\admin\\AppData\\Local\\Temp\\ipykernel_17932\\1299085883.py:24: SettingWithCopyWarning: \n",
      "A value is trying to be set on a copy of a slice from a DataFrame.\n",
      "Try using .loc[row_indexer,col_indexer] = value instead\n",
      "\n",
      "See the caveats in the documentation: https://pandas.pydata.org/pandas-docs/stable/user_guide/indexing.html#returning-a-view-versus-a-copy\n",
      "  selected_columns['产业'] = selected_columns['农业'] + selected_columns['服务业'] + selected_columns['工业']\n",
      "C:\\Users\\admin\\AppData\\Local\\Temp\\ipykernel_17932\\1299085883.py:24: SettingWithCopyWarning: \n",
      "A value is trying to be set on a copy of a slice from a DataFrame.\n",
      "Try using .loc[row_indexer,col_indexer] = value instead\n",
      "\n",
      "See the caveats in the documentation: https://pandas.pydata.org/pandas-docs/stable/user_guide/indexing.html#returning-a-view-versus-a-copy\n",
      "  selected_columns['产业'] = selected_columns['农业'] + selected_columns['服务业'] + selected_columns['工业']\n",
      "C:\\Users\\admin\\AppData\\Local\\Temp\\ipykernel_17932\\1299085883.py:24: SettingWithCopyWarning: \n",
      "A value is trying to be set on a copy of a slice from a DataFrame.\n",
      "Try using .loc[row_indexer,col_indexer] = value instead\n",
      "\n",
      "See the caveats in the documentation: https://pandas.pydata.org/pandas-docs/stable/user_guide/indexing.html#returning-a-view-versus-a-copy\n",
      "  selected_columns['产业'] = selected_columns['农业'] + selected_columns['服务业'] + selected_columns['工业']\n",
      "C:\\Users\\admin\\AppData\\Local\\Temp\\ipykernel_17932\\1299085883.py:24: SettingWithCopyWarning: \n",
      "A value is trying to be set on a copy of a slice from a DataFrame.\n",
      "Try using .loc[row_indexer,col_indexer] = value instead\n",
      "\n",
      "See the caveats in the documentation: https://pandas.pydata.org/pandas-docs/stable/user_guide/indexing.html#returning-a-view-versus-a-copy\n",
      "  selected_columns['产业'] = selected_columns['农业'] + selected_columns['服务业'] + selected_columns['工业']\n"
     ]
    }
   ],
   "source": [
    "# Define a function to combine the province and city names\n",
    "def combine_province_city(row):\n",
    "    if row['省份\\nProvince'] in ['北京', '天津', '重庆', '上海']:\n",
    "        return row['省份\\nProvince']\n",
    "    else:\n",
    "        if row['城市名称\\nCity'] in ['湖北直辖县', '河南直辖县', '海南直辖县']:\n",
    "            return row['城市名称\\nCity']\n",
    "        else:\n",
    "            return row['省份\\nProvince'] + row['城市名称\\nCity']\n",
    "    \n",
    "# Define a function to remove non-Chinese characters\n",
    "def remove_non_chinese(text):\n",
    "    return re.sub('[^\\u4e00-\\u9fff]', '', text)\n",
    "\n",
    "# Define a function to prepare the city dataset\n",
    "def prepare_city(df):\n",
    "    df['城市'] = df.apply(combine_province_city, axis=1)\n",
    "    selected_columns = df[[\n",
    "        '城市', '农业\\nAgriculture', '服务业\\nService', '工业\\nIndustrial total',\n",
    "        '城镇生活\\nUrban household', '农村生活\\nRural household', '生活\\nHousehold',\n",
    "        '交通\\nTransport', '直接排放\\nDirect'\n",
    "    ]]\n",
    "    selected_columns.columns = map(remove_non_chinese, selected_columns.columns)\n",
    "    selected_columns['产业'] = selected_columns['农业'] + selected_columns['服务业'] + selected_columns['工业']\n",
    "    final_columns = ['城市', '农业', '工业', '服务业', '产业', '城镇生活', '农村生活', '生活', '交通', '直接排放']\n",
    "    final_df = selected_columns[final_columns]\n",
    "    \n",
    "    return final_df\n",
    "\n",
    "# Select data\n",
    "city_2020_select = prepare_city(city_2020_raw)\n",
    "city_2015_select = prepare_city(city_2015_raw)\n",
    "city_2010_select = prepare_city(city_2010_raw)\n",
    "city_2005_select = prepare_city(city_2005_raw)\n",
    "\n",
    "city_2020 = city_2020_select[['城市', '直接排放']].rename(columns={'直接排放': '2020'})\n",
    "city_2015 = city_2015_select[['城市', '直接排放']].rename(columns={'直接排放': '2015'})\n",
    "city_2010 = city_2010_select[['城市', '直接排放']].rename(columns={'直接排放': '2010'})\n",
    "city_2005 = city_2005_select[['城市', '直接排放']].rename(columns={'直接排放': '2005'})\n",
    "\n",
    "# 使用“城市”列作为键合并这四个数据集\n",
    "from functools import reduce\n",
    "dfs = [city_2005, city_2010, city_2015, city_2020]\n",
    "city_allyear = reduce(lambda left, right: pd.merge(left, right, on='城市', how='outer'), dfs)"
   ]
  },
  {
   "cell_type": "code",
   "execution_count": 88,
   "metadata": {},
   "outputs": [],
   "source": [
    "# Define a function to simplify the administrative name\n",
    "def simplify_administrative_name(name):\n",
    "    ethnic_groups = [\n",
    "        '汉族', '蒙古族', '回族', '藏族', '维吾尔族', '苗族', '彝族', '壮族',\n",
    "        '布依族', '朝鲜族', '满族', '侗族', '瑶族', '白族', '土家族', '哈尼族',\n",
    "        '哈萨克族', '傣族', '黎族', '傈僳族', '佤族', '畲族', '高山族', '拉祜族',\n",
    "        '水族', '东乡族', '纳西族', '景颇族', '柯尔克孜族', '土族', '达斡尔族', '仫佬族',\n",
    "        '羌族', '布朗族', '撒拉族', '毛难族', '仡佬族', '锡伯族', '阿昌族', '普米族',\n",
    "        '塔吉克族', '怒族', '乌孜别克族', '俄罗斯族', '鄂温克族', '德昂族', '保安族', '裕固族',\n",
    "        '京族', '塔塔尔族', '独龙族', '鄂伦春族', '赫哲族', '门巴族', '珞巴族', '基诺族', '维吾尔', '哈萨克'\n",
    "    ]\n",
    "    ethnic_pattern = '|'.join(ethnic_groups)\n",
    "    if pd.isnull(name) or not isinstance(name, str):\n",
    "        return None  \n",
    "    name = re.sub(f'({ethnic_pattern}).*$', '', name)\n",
    "    name = re.sub(r'巴音郭楞蒙古', '巴音郭楞', name)\n",
    "    name = re.sub(r'博尔塔拉蒙古', '博尔塔拉', name)\n",
    "    name = re.sub(r'(.*?)(自治区|自治州|自治县|市|省|地区|特别行政区|县|旗|自治旗|区|林区|特区|盟)?$', r'\\1', name)\n",
    "    return name.strip()\n",
    "\n",
    "\n",
    "# 应用函数到 'City Name' 和 'Province Name' 列\n",
    "county_raw['City Name Simplified'] = county_raw['City Name'].apply(simplify_administrative_name)\n",
    "county_raw['Province Name Simplified'] = county_raw['Province Name'].apply(simplify_administrative_name)\n",
    "\n",
    "# Define a function to combine the province and city names\n",
    "def combine_province_city_county(row):\n",
    "    if row['Province Name Simplified'] in ['北京', '天津', '重庆', '上海']:\n",
    "        return row['Province Name Simplified']\n",
    "    else:\n",
    "        return f\"{row['Province Name Simplified']}{row['City Name Simplified']}\"\n",
    "\n",
    "# Reshape the county dataset\n",
    "county_raw['城市'] = county_raw.apply(combine_province_city_county, axis=1)\n",
    "county_raw.rename(columns={'County Name': '县'}, inplace=True)\n",
    "pattern = re.compile(r'.*?\\d{4}.*?')\n",
    "columns_with_four_digits = [col for col in county_raw.columns if pattern.match(col)]\n",
    "for col in columns_with_four_digits:\n",
    "    county_raw[col] = county_raw[col].astype(float) * 100\n",
    "columns_to_keep = ['城市', '县'] + columns_with_four_digits\n",
    "county_select = county_raw[columns_to_keep]\n",
    "county_select.columns = [col[1:] if col.startswith('C') and any(char.isdigit() for char in col) else col for col in county_select.columns]\n",
    "county_select = county_select.dropna()"
   ]
  },
  {
   "cell_type": "code",
   "execution_count": 89,
   "metadata": {},
   "outputs": [
    {
     "name": "stdout",
     "output_type": "stream",
     "text": [
      "只在county_grouped中存在的城市: {'安徽巢湖', '海南五指山', '海南白沙', '海南东方', '海南澄迈', '新疆石河子', '新疆五家渠', '湖北潜江', '河南济源', '海南陵水', '海南临高', '湖北天门', '新疆阿拉尔', '海南昌江', '海南定安', '海南文昌', '山东莱芜', '湖北仙桃', '新疆图木舒克', '海南琼海', '海南乐东', '海南屯昌', '海南万宁', '湖北神农架'}\n",
      "只在city中存在的城市: {'西藏阿里', '河南直辖县', '海南直辖县', '湖北直辖县', '西藏昌都', '西藏日喀则', '西藏林芝', '西藏拉萨', '西藏那曲', '西藏山南'}\n"
     ]
    }
   ],
   "source": [
    "# Group the county dataset\n",
    "columns_to_aggregate = [col for col in county_select.columns if col != '县']\n",
    "county_grouped = county_select[columns_to_aggregate].groupby('城市').sum()\n",
    "county_grouped = county_grouped.reset_index()\n",
    "\n",
    "# Compare two datasets\n",
    "cities_in_county_grouped = set(county_grouped['城市'].unique())\n",
    "cities_in_city = set(city_allyear['城市'].unique())\n",
    "cities_only_in_county_grouped = cities_in_county_grouped - cities_in_city\n",
    "cities_only_in_city = cities_in_city - cities_in_county_grouped\n",
    "print(\"只在county_grouped中存在的城市:\", cities_only_in_county_grouped)\n",
    "print(\"只在city中存在的城市:\", cities_only_in_city)\n",
    "\n",
    "# Merge two datasets\n",
    "county_grouped.columns = ['A' + col if col != '城市' else col for col in county_grouped.columns]\n",
    "city_allyear.columns = ['B' + col if col != '城市' else col for col in city_allyear.columns]\n",
    "city = pd.merge(county_grouped, city_allyear, on='城市', how='inner')\n",
    "\n",
    "# Clean the County dataset\n",
    "cities_in_city = set(city['城市'])\n",
    "county = county_select[county_select['城市'].isin(cities_in_city)]\n",
    "county.to_csv('analysis\\county.csv', index=False)\n",
    "city.to_csv('analysis\\city.csv', index=False)"
   ]
  },
  {
   "cell_type": "code",
   "execution_count": 91,
   "metadata": {},
   "outputs": [],
   "source": [
    "# Calculate the proportion of county to city\n",
    "year_columns_county = [col for col in county.columns if col.isdigit()]\n",
    "county_proportion = county[['城市', '县']].copy()\n",
    "\n",
    "for year in year_columns_county:\n",
    "    year_column_city = f'A{year}'\n",
    "    merged_df = county[['城市', '县', year]].merge(city[['城市', year_column_city]], on='城市')\n",
    "    proportion_column_name = f'Proportion_{year}'\n",
    "    merged_df[proportion_column_name] = merged_df[year] / merged_df[year_column_city]\n",
    "    county_proportion = county_proportion.merge(merged_df[['城市', '县', proportion_column_name]], on=['城市', '县'], how='left')\n",
    "\n",
    "county_proportion.columns = [col.replace('Proportion_', '') for col in county_proportion.columns]"
   ]
  }
 ],
 "metadata": {
  "kernelspec": {
   "display_name": "Python 3",
   "language": "python",
   "name": "python3"
  },
  "language_info": {
   "codemirror_mode": {
    "name": "ipython",
    "version": 3
   },
   "file_extension": ".py",
   "mimetype": "text/x-python",
   "name": "python",
   "nbconvert_exporter": "python",
   "pygments_lexer": "ipython3",
   "version": "3.10.5"
  }
 },
 "nbformat": 4,
 "nbformat_minor": 2
}
